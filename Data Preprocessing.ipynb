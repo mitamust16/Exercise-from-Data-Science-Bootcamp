{
 "cells": [
  {
   "cell_type": "markdown",
   "metadata": {},
   "source": [
    "## Import Libraries"
   ]
  },
  {
   "cell_type": "code",
   "execution_count": 1,
   "metadata": {
    "ExecuteTime": {
     "end_time": "2020-08-26T01:47:02.067071Z",
     "start_time": "2020-08-26T01:47:02.064072Z"
    }
   },
   "outputs": [],
   "source": [
    "import numpy as np\n",
    "import pandas as pd\n",
    "import matplotlib.pyplot as plt\n",
    "import seaborn as sns"
   ]
  },
  {
   "cell_type": "markdown",
   "metadata": {},
   "source": [
    "## Mengubah parameter default matplotlib\n",
    "Parameter default matplotlib dapat diubah dengan rcParams sebagai berikut\n"
   ]
  },
  {
   "cell_type": "code",
   "execution_count": 2,
   "metadata": {
    "ExecuteTime": {
     "end_time": "2020-08-26T01:47:02.387221Z",
     "start_time": "2020-08-26T01:47:02.384238Z"
    }
   },
   "outputs": [],
   "source": [
    "from matplotlib import rcParams\n",
    "rcParams['figure.figsize'] = 12, 4\n",
    "rcParams['lines.linewidth'] = 3\n",
    "rcParams['xtick.labelsize'] = 'x-large'\n",
    "rcParams['ytick.labelsize'] = 'x-large'"
   ]
  },
  {
   "cell_type": "markdown",
   "metadata": {},
   "source": [
    "## Load dataset"
   ]
  },
  {
   "cell_type": "markdown",
   "metadata": {},
   "source": [
    "Load dataset yang ingin dipre-process dengan menggunakan `pd.read_csv()`."
   ]
  },
  {
   "cell_type": "code",
   "execution_count": 3,
   "metadata": {},
   "outputs": [
    {
     "data": {
      "text/html": [
       "<div>\n",
       "<style scoped>\n",
       "    .dataframe tbody tr th:only-of-type {\n",
       "        vertical-align: middle;\n",
       "    }\n",
       "\n",
       "    .dataframe tbody tr th {\n",
       "        vertical-align: top;\n",
       "    }\n",
       "\n",
       "    .dataframe thead th {\n",
       "        text-align: right;\n",
       "    }\n",
       "</style>\n",
       "<table border=\"1\" class=\"dataframe\">\n",
       "  <thead>\n",
       "    <tr style=\"text-align: right;\">\n",
       "      <th></th>\n",
       "      <th>A</th>\n",
       "      <th>B</th>\n",
       "      <th>C</th>\n",
       "      <th>D</th>\n",
       "      <th>E</th>\n",
       "      <th>F</th>\n",
       "    </tr>\n",
       "  </thead>\n",
       "  <tbody>\n",
       "    <tr>\n",
       "      <th>0</th>\n",
       "      <td>52.694032</td>\n",
       "      <td>1.770970e+07</td>\n",
       "      <td>7.0</td>\n",
       "      <td>4.307956e+07</td>\n",
       "      <td>0.0</td>\n",
       "      <td>0.0</td>\n",
       "    </tr>\n",
       "    <tr>\n",
       "      <th>1</th>\n",
       "      <td>58.311613</td>\n",
       "      <td>1.649032e+07</td>\n",
       "      <td>0.0</td>\n",
       "      <td>4.179668e+07</td>\n",
       "      <td>0.0</td>\n",
       "      <td>0.0</td>\n",
       "    </tr>\n",
       "    <tr>\n",
       "      <th>2</th>\n",
       "      <td>50.306117</td>\n",
       "      <td>1.609868e+07</td>\n",
       "      <td>1.0</td>\n",
       "      <td>4.266504e+07</td>\n",
       "      <td>0.0</td>\n",
       "      <td>NaN</td>\n",
       "    </tr>\n",
       "    <tr>\n",
       "      <th>3</th>\n",
       "      <td>52.223764</td>\n",
       "      <td>1.862330e+07</td>\n",
       "      <td>0.0</td>\n",
       "      <td>2.406180e+07</td>\n",
       "      <td>0.0</td>\n",
       "      <td>0.0</td>\n",
       "    </tr>\n",
       "    <tr>\n",
       "      <th>4</th>\n",
       "      <td>52.017818</td>\n",
       "      <td>2.070175e+07</td>\n",
       "      <td>NaN</td>\n",
       "      <td>5.429762e+07</td>\n",
       "      <td>0.0</td>\n",
       "      <td>0.0</td>\n",
       "    </tr>\n",
       "  </tbody>\n",
       "</table>\n",
       "</div>"
      ],
      "text/plain": [
       "           A             B    C             D    E    F\n",
       "0  52.694032  1.770970e+07  7.0  4.307956e+07  0.0  0.0\n",
       "1  58.311613  1.649032e+07  0.0  4.179668e+07  0.0  0.0\n",
       "2  50.306117  1.609868e+07  1.0  4.266504e+07  0.0  NaN\n",
       "3  52.223764  1.862330e+07  0.0  2.406180e+07  0.0  0.0\n",
       "4  52.017818  2.070175e+07  NaN  5.429762e+07  0.0  0.0"
      ]
     },
     "execution_count": 3,
     "metadata": {},
     "output_type": "execute_result"
    }
   ],
   "source": [
    "## CODE HERE\n",
    "df = pd.read_csv('misteri.csv')\n",
    "df.head()"
   ]
  },
  {
   "cell_type": "markdown",
   "metadata": {},
   "source": [
    "Pastikan isi dataset dengan menggunakan `df.info()` dan `df.describe()`. Pisahkan kolom menjadi numerik dan kategorikal apabila diperlukan."
   ]
  },
  {
   "cell_type": "code",
   "execution_count": 4,
   "metadata": {},
   "outputs": [
    {
     "name": "stdout",
     "output_type": "stream",
     "text": [
      "<class 'pandas.core.frame.DataFrame'>\n",
      "RangeIndex: 13592 entries, 0 to 13591\n",
      "Data columns (total 6 columns):\n",
      " #   Column  Non-Null Count  Dtype  \n",
      "---  ------  --------------  -----  \n",
      " 0   A       13418 non-null  float64\n",
      " 1   B       13415 non-null  float64\n",
      " 2   C       13417 non-null  float64\n",
      " 3   D       13405 non-null  float64\n",
      " 4   E       13406 non-null  float64\n",
      " 5   F       13429 non-null  float64\n",
      "dtypes: float64(6)\n",
      "memory usage: 637.2 KB\n"
     ]
    }
   ],
   "source": [
    "## CODE HERE\n",
    "df.info()"
   ]
  },
  {
   "cell_type": "code",
   "execution_count": 5,
   "metadata": {},
   "outputs": [
    {
     "data": {
      "text/html": [
       "<div>\n",
       "<style scoped>\n",
       "    .dataframe tbody tr th:only-of-type {\n",
       "        vertical-align: middle;\n",
       "    }\n",
       "\n",
       "    .dataframe tbody tr th {\n",
       "        vertical-align: top;\n",
       "    }\n",
       "\n",
       "    .dataframe thead th {\n",
       "        text-align: right;\n",
       "    }\n",
       "</style>\n",
       "<table border=\"1\" class=\"dataframe\">\n",
       "  <thead>\n",
       "    <tr style=\"text-align: right;\">\n",
       "      <th></th>\n",
       "      <th>A</th>\n",
       "      <th>B</th>\n",
       "      <th>C</th>\n",
       "      <th>D</th>\n",
       "      <th>E</th>\n",
       "      <th>F</th>\n",
       "    </tr>\n",
       "  </thead>\n",
       "  <tbody>\n",
       "    <tr>\n",
       "      <th>count</th>\n",
       "      <td>13418.000000</td>\n",
       "      <td>1.341500e+04</td>\n",
       "      <td>13417.000000</td>\n",
       "      <td>1.340500e+04</td>\n",
       "      <td>13406.000000</td>\n",
       "      <td>13429.000000</td>\n",
       "    </tr>\n",
       "    <tr>\n",
       "      <th>mean</th>\n",
       "      <td>50.604303</td>\n",
       "      <td>1.646446e+07</td>\n",
       "      <td>2.537825</td>\n",
       "      <td>3.522170e+07</td>\n",
       "      <td>0.151574</td>\n",
       "      <td>0.040882</td>\n",
       "    </tr>\n",
       "    <tr>\n",
       "      <th>std</th>\n",
       "      <td>7.185786</td>\n",
       "      <td>3.385392e+06</td>\n",
       "      <td>2.830022</td>\n",
       "      <td>2.118154e+07</td>\n",
       "      <td>0.358621</td>\n",
       "      <td>0.198023</td>\n",
       "    </tr>\n",
       "    <tr>\n",
       "      <th>min</th>\n",
       "      <td>22.000000</td>\n",
       "      <td>7.540000e+06</td>\n",
       "      <td>0.000000</td>\n",
       "      <td>1.000000e+06</td>\n",
       "      <td>0.000000</td>\n",
       "      <td>0.000000</td>\n",
       "    </tr>\n",
       "    <tr>\n",
       "      <th>25%</th>\n",
       "      <td>45.710112</td>\n",
       "      <td>1.405912e+07</td>\n",
       "      <td>1.000000</td>\n",
       "      <td>2.049483e+07</td>\n",
       "      <td>0.000000</td>\n",
       "      <td>0.000000</td>\n",
       "    </tr>\n",
       "    <tr>\n",
       "      <th>50%</th>\n",
       "      <td>50.513100</td>\n",
       "      <td>1.612895e+07</td>\n",
       "      <td>2.000000</td>\n",
       "      <td>3.031256e+07</td>\n",
       "      <td>0.000000</td>\n",
       "      <td>0.000000</td>\n",
       "    </tr>\n",
       "    <tr>\n",
       "      <th>75%</th>\n",
       "      <td>55.457167</td>\n",
       "      <td>1.854458e+07</td>\n",
       "      <td>4.000000</td>\n",
       "      <td>4.465140e+07</td>\n",
       "      <td>0.000000</td>\n",
       "      <td>0.000000</td>\n",
       "    </tr>\n",
       "    <tr>\n",
       "      <th>max</th>\n",
       "      <td>80.000000</td>\n",
       "      <td>3.400000e+07</td>\n",
       "      <td>13.000000</td>\n",
       "      <td>2.340000e+08</td>\n",
       "      <td>1.000000</td>\n",
       "      <td>1.000000</td>\n",
       "    </tr>\n",
       "  </tbody>\n",
       "</table>\n",
       "</div>"
      ],
      "text/plain": [
       "                  A             B             C             D             E  \\\n",
       "count  13418.000000  1.341500e+04  13417.000000  1.340500e+04  13406.000000   \n",
       "mean      50.604303  1.646446e+07      2.537825  3.522170e+07      0.151574   \n",
       "std        7.185786  3.385392e+06      2.830022  2.118154e+07      0.358621   \n",
       "min       22.000000  7.540000e+06      0.000000  1.000000e+06      0.000000   \n",
       "25%       45.710112  1.405912e+07      1.000000  2.049483e+07      0.000000   \n",
       "50%       50.513100  1.612895e+07      2.000000  3.031256e+07      0.000000   \n",
       "75%       55.457167  1.854458e+07      4.000000  4.465140e+07      0.000000   \n",
       "max       80.000000  3.400000e+07     13.000000  2.340000e+08      1.000000   \n",
       "\n",
       "                  F  \n",
       "count  13429.000000  \n",
       "mean       0.040882  \n",
       "std        0.198023  \n",
       "min        0.000000  \n",
       "25%        0.000000  \n",
       "50%        0.000000  \n",
       "75%        0.000000  \n",
       "max        1.000000  "
      ]
     },
     "execution_count": 5,
     "metadata": {},
     "output_type": "execute_result"
    }
   ],
   "source": [
    "df.describe()"
   ]
  },
  {
   "cell_type": "code",
   "execution_count": 6,
   "metadata": {},
   "outputs": [],
   "source": [
    "# CODE HERE\n",
    "nums = ['A','B','C','D']\n",
    "cats = ['E','F']"
   ]
  },
  {
   "cell_type": "markdown",
   "metadata": {},
   "source": [
    "## Missing Data"
   ]
  },
  {
   "cell_type": "markdown",
   "metadata": {},
   "source": [
    "Pertama, kita akan menangani data-data yang hilang. Cek jumlah data yang hilang dengan menggunakan `df.isna().sum()`."
   ]
  },
  {
   "cell_type": "code",
   "execution_count": 7,
   "metadata": {
    "ExecuteTime": {
     "end_time": "2020-08-30T02:00:03.306166Z",
     "start_time": "2020-08-30T02:00:03.302166Z"
    }
   },
   "outputs": [
    {
     "data": {
      "text/plain": [
       "A    174\n",
       "B    177\n",
       "C    175\n",
       "D    187\n",
       "E    186\n",
       "F    163\n",
       "dtype: int64"
      ]
     },
     "execution_count": 7,
     "metadata": {},
     "output_type": "execute_result"
    }
   ],
   "source": [
    "## CODE HERE\n",
    "df.isna().sum()"
   ]
  },
  {
   "cell_type": "markdown",
   "metadata": {},
   "source": [
    "Terdapat 6 kolom yang memiliki data hilang. <br>Kolom tersebut yaitu `A`, `B`, `C`, `D`, `E`, dan `F`."
   ]
  },
  {
   "cell_type": "markdown",
   "metadata": {},
   "source": [
    "### Drop"
   ]
  },
  {
   "cell_type": "markdown",
   "metadata": {},
   "source": [
    "Apakah kita ingin menangani data dengan cara menghapus mereka? Kalau ya, hapus baris-baris dengan menggunakan `df.dropna()`."
   ]
  },
  {
   "cell_type": "code",
   "execution_count": 8,
   "metadata": {
    "ExecuteTime": {
     "end_time": "2020-08-26T01:47:04.087788Z",
     "start_time": "2020-08-26T01:47:04.079808Z"
    }
   },
   "outputs": [
    {
     "data": {
      "text/plain": [
       "A    173\n",
       "B    176\n",
       "C    173\n",
       "D    187\n",
       "E    185\n",
       "F      0\n",
       "dtype: int64"
      ]
     },
     "execution_count": 8,
     "metadata": {},
     "output_type": "execute_result"
    }
   ],
   "source": [
    "## CODE HERE\n",
    "df.dropna(subset=['F'], inplace=True)\n",
    "df.isna().sum()"
   ]
  },
  {
   "cell_type": "markdown",
   "metadata": {},
   "source": [
    "Kita putuskan untuk menghapus data yang hilang pada kolom `F` karena proporsi jumlah data yang hilang pada kolom `F` sangat sedikit apabila dibandingkan dengan jumlah data secara keseluruhan kolom F."
   ]
  },
  {
   "cell_type": "markdown",
   "metadata": {},
   "source": [
    "### Imputasi Numeric"
   ]
  },
  {
   "cell_type": "markdown",
   "metadata": {},
   "source": [
    "Apakah kita ingin menangani data hilang di kolom tertentu dengan imputasi? Kalau ya, lakukan imputasi dengan menggunakan `df.fillna()`"
   ]
  },
  {
   "cell_type": "code",
   "execution_count": 9,
   "metadata": {
    "ExecuteTime": {
     "end_time": "2020-08-26T01:47:04.620589Z",
     "start_time": "2020-08-26T01:47:04.447706Z"
    }
   },
   "outputs": [],
   "source": [
    "## CODE HERE\n",
    "df['A'].fillna(df['A'].mean(), inplace=True)\n",
    "df['B'].fillna(df['B'].median(), inplace=True)\n",
    "df['C'].fillna(df['C'].mean(), inplace=True)\n",
    "df['D'].fillna(df['D'].median(), inplace=True)"
   ]
  },
  {
   "cell_type": "markdown",
   "metadata": {
    "ExecuteTime": {
     "end_time": "2020-08-30T02:03:15.765602Z",
     "start_time": "2020-08-30T02:03:15.756609Z"
    }
   },
   "source": [
    "Diputuskan untuk melakukan imputasi pada kolom-kolom tersebut karena imputasi dapat tetap mempertahankan semua kasus (mewakili keadaan data) dengan mengganti data yang hilang dengan nilai perkiraan karakteristik data yang tersedia.<br> Nilai yang digunakan untuk imputasi adalah mean dan median. Apabila data cenderung normal, maka digunakan imputasi mean. Sedangkan jika data cenderung skew, maka digunakan imputasi median."
   ]
  },
  {
   "cell_type": "markdown",
   "metadata": {},
   "source": [
    "### Imputasi Categorical"
   ]
  },
  {
   "cell_type": "markdown",
   "metadata": {},
   "source": [
    "Apakah kita ingin menangani data hilang di kolom tertentu dengan imputasi? Kalau ya, lakukan imputasi dengan menggunakan `df.fillna()`"
   ]
  },
  {
   "cell_type": "code",
   "execution_count": 10,
   "metadata": {},
   "outputs": [],
   "source": [
    "## CODE HERE\n",
    "df['E'].fillna(df['E'].mode()[0], inplace=True)"
   ]
  },
  {
   "cell_type": "markdown",
   "metadata": {
    "ExecuteTime": {
     "end_time": "2020-08-30T02:04:09.245732Z",
     "start_time": "2020-08-30T02:04:09.240734Z"
    }
   },
   "source": [
    "Diputuskan untuk melakukan imputasi pada kolom-kolom tersebut karena imputasi dapat tetap mempertahankan semua kasus (mewakili keadaan data) dengan mengganti data yang hilang dengan nilai perkiraan karakteristik data yang tersedia.<br>\n",
    "Nilai yang digunakan untuk imputasi adalah nilai modus yang dimiliki setiap kolom karena modus menggambarkan keadaan dominan yang terjadi pada suatu data kategori."
   ]
  },
  {
   "cell_type": "markdown",
   "metadata": {
    "ExecuteTime": {
     "end_time": "2020-08-30T02:04:49.860745Z",
     "start_time": "2020-08-30T02:04:49.854750Z"
    }
   },
   "source": [
    "Cek sekali lagi apakah semua nilai hilang sudah ditangani."
   ]
  },
  {
   "cell_type": "code",
   "execution_count": 11,
   "metadata": {
    "ExecuteTime": {
     "end_time": "2020-08-30T02:05:00.418912Z",
     "start_time": "2020-08-30T02:05:00.415896Z"
    }
   },
   "outputs": [
    {
     "data": {
      "text/plain": [
       "A    0\n",
       "B    0\n",
       "C    0\n",
       "D    0\n",
       "E    0\n",
       "F    0\n",
       "dtype: int64"
      ]
     },
     "execution_count": 11,
     "metadata": {},
     "output_type": "execute_result"
    }
   ],
   "source": [
    "## CODE HERE\n",
    "df.isna().sum()"
   ]
  },
  {
   "cell_type": "markdown",
   "metadata": {},
   "source": [
    "## Duplicated Data"
   ]
  },
  {
   "cell_type": "markdown",
   "metadata": {},
   "source": [
    "Selanjutnya, kita akan menangani data duplikat. Gunakan `df.duplicated.sum()` untuk mengecek jumlah kolom hilang. Kemudian gunakan `df.drop_duplicates()` untuk menghapus baris-baris duplikat."
   ]
  },
  {
   "cell_type": "code",
   "execution_count": 12,
   "metadata": {
    "ExecuteTime": {
     "end_time": "2020-08-26T01:47:05.988615Z",
     "start_time": "2020-08-26T01:47:05.952636Z"
    }
   },
   "outputs": [
    {
     "name": "stdout",
     "output_type": "stream",
     "text": [
      "821\n",
      "0\n"
     ]
    }
   ],
   "source": [
    "## CODE HERE\n",
    "print(df.duplicated().sum())\n",
    "df.drop_duplicates(inplace=True)\n",
    "print(df.duplicated().sum())"
   ]
  },
  {
   "cell_type": "markdown",
   "metadata": {},
   "source": [
    "Iya, akhirnya semua data duplikat dihapus karena kita yakin kita tidak memerlukan baris-baris duplikat."
   ]
  },
  {
   "cell_type": "markdown",
   "metadata": {},
   "source": [
    "## Outliers"
   ]
  },
  {
   "cell_type": "markdown",
   "metadata": {},
   "source": [
    "Setelah data yang hilang dan duplikat, kita akan menangani outlier. Ada 2 cara untuk melakukan ini:\n",
    "* Dengan Z-score\n",
    "* Dengan IQR"
   ]
  },
  {
   "cell_type": "markdown",
   "metadata": {},
   "source": [
    "### Menggunakan Z-score"
   ]
  },
  {
   "cell_type": "markdown",
   "metadata": {},
   "source": [
    "Diputuskan untuk menangani outlier yaitu dengan memfilter data yang memiliki nilai Z-score < 3. Karena Z-score merupakan standarisasi pada data dengan kriteria bahwa Z-score < 3 bukan merupakan outlier."
   ]
  },
  {
   "cell_type": "code",
   "execution_count": 13,
   "metadata": {
    "ExecuteTime": {
     "end_time": "2020-08-26T01:47:06.881163Z",
     "start_time": "2020-08-26T01:47:06.872167Z"
    }
   },
   "outputs": [
    {
     "name": "stdout",
     "output_type": "stream",
     "text": [
      "Jumlah baris sebelum memfilter outlier: 12608\n",
      "Jumlah baris setelah memfilter outlier: 12202\n"
     ]
    }
   ],
   "source": [
    "from scipy import stats\n",
    "print(f'Jumlah baris sebelum memfilter outlier: {len(df)}')\n",
    "\n",
    "## CODE HERE\n",
    "filtered_entries = np.array([True] * len(df))\n",
    "for col in ['A', 'C']:\n",
    "    zscore = abs(stats.zscore(df[col]))\n",
    "    filtered_entries = (zscore < 3) & filtered_entries\n",
    "    \n",
    "df = df[filtered_entries]\n",
    "\n",
    "print(f'Jumlah baris setelah memfilter outlier: {len(df)}')"
   ]
  },
  {
   "cell_type": "markdown",
   "metadata": {},
   "source": [
    "### Menggunakan IQR"
   ]
  },
  {
   "cell_type": "markdown",
   "metadata": {
    "ExecuteTime": {
     "end_time": "2020-08-30T02:08:30.678542Z",
     "start_time": "2020-08-30T02:08:30.672542Z"
    }
   },
   "source": [
    "Diputuskan menangani outlier dengan IQR karena IQR robust terhadap outlier"
   ]
  },
  {
   "cell_type": "code",
   "execution_count": 14,
   "metadata": {
    "ExecuteTime": {
     "end_time": "2020-08-26T01:47:07.373261Z",
     "start_time": "2020-08-26T01:47:07.360269Z"
    }
   },
   "outputs": [
    {
     "name": "stdout",
     "output_type": "stream",
     "text": [
      "Jumlah baris sebelum memfilter outlier: 12202\n",
      "Jumlah baris setelah memfilter outlier: 11566\n"
     ]
    }
   ],
   "source": [
    "print(f'Jumlah baris sebelum memfilter outlier: {len(df)}')\n",
    "\n",
    "## CODE HERE\n",
    "filtered_entries = np.array([True] * len(df))\n",
    "for col in ['B', 'D']:\n",
    "    Q1 = df[col].quantile(0.25)\n",
    "    Q3 = df[col].quantile(0.75)\n",
    "    IQR = Q3 - Q1\n",
    "    low_limit = Q1 - (IQR * 1.5)\n",
    "    high_limit = Q3 + (IQR * 1.5)\n",
    "\n",
    "    filtered_entries = ((df[col] >= low_limit) & (df[col] <= high_limit)) & filtered_entries\n",
    "    \n",
    "df = df[filtered_entries]\n",
    "print(f'Jumlah baris setelah memfilter outlier: {len(df)}')"
   ]
  },
  {
   "cell_type": "markdown",
   "metadata": {},
   "source": [
    "### Normalization/Standardization"
   ]
  },
  {
   "cell_type": "markdown",
   "metadata": {
    "ExecuteTime": {
     "end_time": "2020-08-26T01:47:08.498571Z",
     "start_time": "2020-08-26T01:47:08.464577Z"
    }
   },
   "source": [
    "Perlu dilakukan normalization/standardization karena:\n",
    "* Data dengan skala yang sama akan menjamin algoritma pembelajaran memperlakukan semua feature dengan adil\n",
    "* Data dengan skala yang sama dan centered akan mempercepat algoritma pembelajaran\n",
    "* Data dengan skala yang sama akan mempermudah interpretasi beberapa model ML"
   ]
  },
  {
   "cell_type": "code",
   "execution_count": 15,
   "metadata": {
    "ExecuteTime": {
     "end_time": "2020-08-26T01:47:08.977795Z",
     "start_time": "2020-08-26T01:47:08.967783Z"
    }
   },
   "outputs": [],
   "source": [
    "from sklearn.preprocessing import MinMaxScaler, StandardScaler\n",
    "## CODE HERE\n",
    "df['A_norm'] = MinMaxScaler().fit_transform(df['A'].values.reshape(len(df), 1))\n",
    "df['C_norm'] = MinMaxScaler().fit_transform(df['C'].values.reshape(len(df), 1))"
   ]
  },
  {
   "cell_type": "markdown",
   "metadata": {},
   "source": [
    "Diputuskan untuk melakukan normalization/standardization. <br>\n",
    "Cek apakah nilai tertransformasi dengan benar dengan menggunakan `df.describe()`"
   ]
  },
  {
   "cell_type": "code",
   "execution_count": 16,
   "metadata": {
    "ExecuteTime": {
     "end_time": "2020-08-30T02:13:39.697874Z",
     "start_time": "2020-08-30T02:13:39.694880Z"
    }
   },
   "outputs": [
    {
     "data": {
      "text/html": [
       "<div>\n",
       "<style scoped>\n",
       "    .dataframe tbody tr th:only-of-type {\n",
       "        vertical-align: middle;\n",
       "    }\n",
       "\n",
       "    .dataframe tbody tr th {\n",
       "        vertical-align: top;\n",
       "    }\n",
       "\n",
       "    .dataframe thead th {\n",
       "        text-align: right;\n",
       "    }\n",
       "</style>\n",
       "<table border=\"1\" class=\"dataframe\">\n",
       "  <thead>\n",
       "    <tr style=\"text-align: right;\">\n",
       "      <th></th>\n",
       "      <th>A</th>\n",
       "      <th>B</th>\n",
       "      <th>C</th>\n",
       "      <th>D</th>\n",
       "      <th>E</th>\n",
       "      <th>F</th>\n",
       "      <th>A_norm</th>\n",
       "      <th>C_norm</th>\n",
       "    </tr>\n",
       "  </thead>\n",
       "  <tbody>\n",
       "    <tr>\n",
       "      <th>count</th>\n",
       "      <td>11566.000000</td>\n",
       "      <td>1.156600e+04</td>\n",
       "      <td>11566.000000</td>\n",
       "      <td>1.156600e+04</td>\n",
       "      <td>11566.000000</td>\n",
       "      <td>11566.000000</td>\n",
       "      <td>11566.000000</td>\n",
       "      <td>11566.000000</td>\n",
       "    </tr>\n",
       "    <tr>\n",
       "      <th>mean</th>\n",
       "      <td>50.467256</td>\n",
       "      <td>1.631382e+07</td>\n",
       "      <td>2.235984</td>\n",
       "      <td>3.235070e+07</td>\n",
       "      <td>0.137731</td>\n",
       "      <td>0.028013</td>\n",
       "      <td>0.499152</td>\n",
       "      <td>0.279498</td>\n",
       "    </tr>\n",
       "    <tr>\n",
       "      <th>std</th>\n",
       "      <td>6.957623</td>\n",
       "      <td>3.131400e+06</td>\n",
       "      <td>2.265667</td>\n",
       "      <td>1.604263e+07</td>\n",
       "      <td>0.344633</td>\n",
       "      <td>0.165017</td>\n",
       "      <td>0.164133</td>\n",
       "      <td>0.283208</td>\n",
       "    </tr>\n",
       "    <tr>\n",
       "      <th>min</th>\n",
       "      <td>29.308063</td>\n",
       "      <td>7.540000e+06</td>\n",
       "      <td>0.000000</td>\n",
       "      <td>1.000000e+06</td>\n",
       "      <td>0.000000</td>\n",
       "      <td>0.000000</td>\n",
       "      <td>0.000000</td>\n",
       "      <td>0.000000</td>\n",
       "    </tr>\n",
       "    <tr>\n",
       "      <th>25%</th>\n",
       "      <td>45.706791</td>\n",
       "      <td>1.405936e+07</td>\n",
       "      <td>0.000000</td>\n",
       "      <td>2.018684e+07</td>\n",
       "      <td>0.000000</td>\n",
       "      <td>0.000000</td>\n",
       "      <td>0.386851</td>\n",
       "      <td>0.000000</td>\n",
       "    </tr>\n",
       "    <tr>\n",
       "      <th>50%</th>\n",
       "      <td>50.513100</td>\n",
       "      <td>1.612613e+07</td>\n",
       "      <td>1.000000</td>\n",
       "      <td>2.969146e+07</td>\n",
       "      <td>0.000000</td>\n",
       "      <td>0.000000</td>\n",
       "      <td>0.500234</td>\n",
       "      <td>0.125000</td>\n",
       "    </tr>\n",
       "    <tr>\n",
       "      <th>75%</th>\n",
       "      <td>55.200101</td>\n",
       "      <td>1.837394e+07</td>\n",
       "      <td>3.000000</td>\n",
       "      <td>4.218794e+07</td>\n",
       "      <td>0.000000</td>\n",
       "      <td>0.000000</td>\n",
       "      <td>0.610802</td>\n",
       "      <td>0.375000</td>\n",
       "    </tr>\n",
       "    <tr>\n",
       "      <th>max</th>\n",
       "      <td>71.698317</td>\n",
       "      <td>2.505519e+07</td>\n",
       "      <td>8.000000</td>\n",
       "      <td>8.008210e+07</td>\n",
       "      <td>1.000000</td>\n",
       "      <td>1.000000</td>\n",
       "      <td>1.000000</td>\n",
       "      <td>1.000000</td>\n",
       "    </tr>\n",
       "  </tbody>\n",
       "</table>\n",
       "</div>"
      ],
      "text/plain": [
       "                  A             B             C             D             E  \\\n",
       "count  11566.000000  1.156600e+04  11566.000000  1.156600e+04  11566.000000   \n",
       "mean      50.467256  1.631382e+07      2.235984  3.235070e+07      0.137731   \n",
       "std        6.957623  3.131400e+06      2.265667  1.604263e+07      0.344633   \n",
       "min       29.308063  7.540000e+06      0.000000  1.000000e+06      0.000000   \n",
       "25%       45.706791  1.405936e+07      0.000000  2.018684e+07      0.000000   \n",
       "50%       50.513100  1.612613e+07      1.000000  2.969146e+07      0.000000   \n",
       "75%       55.200101  1.837394e+07      3.000000  4.218794e+07      0.000000   \n",
       "max       71.698317  2.505519e+07      8.000000  8.008210e+07      1.000000   \n",
       "\n",
       "                  F        A_norm        C_norm  \n",
       "count  11566.000000  11566.000000  11566.000000  \n",
       "mean       0.028013      0.499152      0.279498  \n",
       "std        0.165017      0.164133      0.283208  \n",
       "min        0.000000      0.000000      0.000000  \n",
       "25%        0.000000      0.386851      0.000000  \n",
       "50%        0.000000      0.500234      0.125000  \n",
       "75%        0.000000      0.610802      0.375000  \n",
       "max        1.000000      1.000000      1.000000  "
      ]
     },
     "execution_count": 16,
     "metadata": {},
     "output_type": "execute_result"
    }
   ],
   "source": [
    "## CODE HERE\n",
    "df.describe()"
   ]
  },
  {
   "cell_type": "markdown",
   "metadata": {},
   "source": [
    "### Feature Encoding"
   ]
  },
  {
   "cell_type": "markdown",
   "metadata": {
    "ExecuteTime": {
     "end_time": "2020-08-30T02:10:50.058527Z",
     "start_time": "2020-08-30T02:10:50.054528Z"
    }
   },
   "source": [
    "Perlu melakukan feature encoding."
   ]
  },
  {
   "cell_type": "code",
   "execution_count": 17,
   "metadata": {
    "ExecuteTime": {
     "end_time": "2020-08-26T01:49:21.530506Z",
     "start_time": "2020-08-26T01:49:21.508507Z"
    },
    "scrolled": true
   },
   "outputs": [],
   "source": [
    "for cat in cats:\n",
    "    # CODE HERE\n",
    "    onehots = pd.get_dummies(df[cat], prefix=cat)\n",
    "    df = df.join(onehots)"
   ]
  },
  {
   "cell_type": "markdown",
   "metadata": {
    "ExecuteTime": {
     "end_time": "2020-08-30T02:11:42.450081Z",
     "start_time": "2020-08-30T02:11:42.445083Z"
    }
   },
   "source": [
    "Kita memerlukan feature encoding karena tak semua model/algoritma ML dapat menggunakan feature categorical. <br>\n",
    "Jenis feature encoding apa yang kita akhirnya gunakan yaitu One-hot encoding. One-hot encoding lebih baik karena One-hot encoding melakukan perubahan feature categorical menjadi numeric dengan menjadikan masing-masing nilai unik feature tersendiri.\n",
    "\n",
    "Jangan lupa gabungkan encoded feature dengan dataframe awal dan cek apakah sudah tergabung dengan baik dengan menggunakan `df.columns`"
   ]
  },
  {
   "cell_type": "code",
   "execution_count": 18,
   "metadata": {
    "ExecuteTime": {
     "end_time": "2020-08-30T02:14:29.666812Z",
     "start_time": "2020-08-30T02:14:29.663826Z"
    }
   },
   "outputs": [
    {
     "data": {
      "text/plain": [
       "Index(['A', 'B', 'C', 'D', 'E', 'F', 'A_norm', 'C_norm', 'E_0.0', 'E_1.0',\n",
       "       'F_0.0', 'F_1.0'],\n",
       "      dtype='object')"
      ]
     },
     "execution_count": 18,
     "metadata": {},
     "output_type": "execute_result"
    }
   ],
   "source": [
    "## CODE HERE\n",
    "df.columns"
   ]
  },
  {
   "cell_type": "markdown",
   "metadata": {},
   "source": [
    "## Imbalanced Dataset"
   ]
  },
  {
   "cell_type": "markdown",
   "metadata": {},
   "source": [
    "Apakah target kita imbalanced? Cek dengan menggunakan `value_counts()`. Apakah kita perlu melakukan Over/Undersampling?\n",
    "\n",
    "Kalau ya, persiapkan data kitauntuk over/undersampling dengan memisahkan mereka ke variabel `X` dan `y`."
   ]
  },
  {
   "cell_type": "code",
   "execution_count": 19,
   "metadata": {},
   "outputs": [
    {
     "data": {
      "text/plain": [
       "0.0    11242\n",
       "1.0      324\n",
       "Name: F_class, dtype: int64"
      ]
     },
     "execution_count": 19,
     "metadata": {},
     "output_type": "execute_result"
    }
   ],
   "source": [
    "df['F_class'] = df['F']\n",
    "df['F_class'].value_counts()"
   ]
  },
  {
   "cell_type": "code",
   "execution_count": 20,
   "metadata": {
    "ExecuteTime": {
     "end_time": "2020-08-30T02:15:54.907962Z",
     "start_time": "2020-08-30T02:15:54.896951Z"
    }
   },
   "outputs": [
    {
     "name": "stdout",
     "output_type": "stream",
     "text": [
      "(11566, 11)\n",
      "(11566,)\n"
     ]
    }
   ],
   "source": [
    "## CODE HERE\n",
    "X = df[[col for col in df.columns if (str(df[col].dtype) != 'object') and col not in ['F', 'F_class']]]\n",
    "y = df['F_class'].values\n",
    "print(X.shape) \n",
    "print(y.shape)"
   ]
  },
  {
   "cell_type": "markdown",
   "metadata": {},
   "source": [
    "Lakukan under sampling dengan menggunakan Sampler dari `imblearn`."
   ]
  },
  {
   "cell_type": "code",
   "execution_count": 21,
   "metadata": {
    "ExecuteTime": {
     "end_time": "2020-08-26T01:56:27.155621Z",
     "start_time": "2020-08-26T01:56:27.134633Z"
    },
    "scrolled": true
   },
   "outputs": [
    {
     "data": {
      "text/plain": [
       "1.0    324\n",
       "0.0    324\n",
       "dtype: int64"
      ]
     },
     "execution_count": 21,
     "metadata": {},
     "output_type": "execute_result"
    }
   ],
   "source": [
    "from imblearn import over_sampling, under_sampling\n",
    "## CODE HERE\n",
    "X_over, y_over = under_sampling.RandomUnderSampler().fit_resample(X, y)\n",
    "pd.Series(y_over).value_counts()"
   ]
  },
  {
   "cell_type": "markdown",
   "metadata": {},
   "source": [
    "Jangan lupa cek distribusi kelas/label setelah sampling dengan menggunakan `value_counts()`."
   ]
  },
  {
   "cell_type": "code",
   "execution_count": 22,
   "metadata": {},
   "outputs": [
    {
     "data": {
      "image/png": "[encoded data removed]",
      "text/plain": [
       "<Figure size 720x576 with 1 Axes>"
      ]
     },
     "metadata": {
      "needs_background": "light"
     },
     "output_type": "display_data"
    }
   ],
   "source": [
    "plt.figure(figsize = (10,8))\n",
    "sns.distplot(y_over)\n",
    "plt.title('Distribusi Kelas dari Variabel Target (F)', fontsize=14);\n",
    "plt.show()"
   ]
  },
  {
   "cell_type": "markdown",
   "metadata": {},
   "source": [
    "Jadi terlihat bahwa distribusi setelah sampling adalah distribusi normal."
   ]
  },
  {
   "cell_type": "code",
   "execution_count": null,
   "metadata": {},
   "outputs": [],
   "source": []
  }
 ],
 "metadata": {
  "kernelspec": {
   "display_name": "Python 3",
   "language": "python",
   "name": "python3"
  },
  "language_info": {
   "codemirror_mode": {
    "name": "ipython",
    "version": 3
   },
   "file_extension": ".py",
   "mimetype": "text/x-python",
   "name": "python",
   "nbconvert_exporter": "python",
   "pygments_lexer": "ipython3",
   "version": "3.8.3"
  }
 },
 "nbformat": 4,
 "nbformat_minor": 2
}
